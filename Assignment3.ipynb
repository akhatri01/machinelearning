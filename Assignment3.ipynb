{
 "cells": [
  {
   "cell_type": "code",
   "execution_count": 18,
   "metadata": {},
   "outputs": [],
   "source": [
    "\n",
    "import string\n",
    "import random\n",
    "def randomString(stringLength=10):\n",
    "    \"\"\"Generate a random string of fixed length \"\"\"\n",
    "    letters = string.ascii_lowercase\n",
    "    return ''.join(random.choice(letters) for i in range(stringLength))"
   ]
  },
  {
   "cell_type": "code",
   "execution_count": 68,
   "metadata": {},
   "outputs": [],
   "source": [
    "import json\n",
    "class UserAttribute(object):\n",
    "    \n",
    "    def __init__(self, **kwds):\n",
    "        self.emailAddress = randomString(10) + '@gmail.com'\n",
    "        self.phoneNumber = random.randint(2111111111,9999999999)\n",
    "        \n",
    "    def serialize(self):\n",
    "        \"\"\"serialize the UserAttribute into serializable object\"\"\"\n",
    "        return self.__dict__\n",
    "    \n",
    "    def toJson(self):\n",
    "        self.jsonObject = json.dumps(serialize(self), indent=2)\n",
    "    \n",
    "    # writes the json to the filename provided\n",
    "    def toFile(self, fileName):\n",
    "        \"\"\"Writes the serialized json object to the file\n",
    "            filename: the filename used to generate the file and save the json object, \n",
    "                if the filename already exist in the folder, then throws the error message\"\"\"\n",
    "        if(self.jsonObject is None):\n",
    "            self.toJson()\n",
    "        with open(fileName, \"x\") as outfile: \n",
    "            outfile.write(self.jsonObject) \n"
   ]
  },
  {
   "cell_type": "markdown",
   "metadata": {},
   "source": [
    "### Test the json to file "
   ]
  },
  {
   "cell_type": "code",
   "execution_count": 103,
   "metadata": {
    "scrolled": false
   },
   "outputs": [
    {
     "name": "stdout",
     "output_type": "stream",
     "text": [
      "test.json  already exists, removing it.\n",
      "{\n",
      "  \"emailAddress\": \"wmxisbjtzz@gmail.com\",\n",
      "  \"phoneNumber\": 4548338472\n",
      "}\n"
     ]
    }
   ],
   "source": [
    "import os\n",
    "\n",
    "filename = 'test.json'\n",
    "\n",
    "# for the test, remove the file if file already exist\n",
    "if os.path.exists(filename):\n",
    "    print(filename, ' already exists, removing it.')\n",
    "    os.remove(filename)\n",
    "\n",
    "# Create new UserAttribute and writing the serialized json to a file \n",
    "user = UserAttribute()\n",
    "user.toJson()\n",
    "print(user.jsonObject)\n",
    "user.jsonObject\n",
    "user.toFile(filename)\n"
   ]
  },
  {
   "cell_type": "markdown",
   "metadata": {},
   "source": [
    "### Validate the file and its content"
   ]
  },
  {
   "cell_type": "code",
   "execution_count": 104,
   "metadata": {},
   "outputs": [
    {
     "name": "stdout",
     "output_type": "stream",
     "text": [
      "test.json  exists in the system.\n",
      "{'emailAddress': 'wmxisbjtzz@gmail.com', 'phoneNumber': 4548338472}\n"
     ]
    }
   ],
   "source": [
    "if os.path.exists(filename):\n",
    "    print(filename, ' exists in the system.')\n",
    "else:\n",
    "    print(filename, ' is not created at all.')\n",
    "    \n",
    "# read the json file \n",
    "with open(filename, \"r\") as fileContent: \n",
    "    data = json.load(fileContent)\n",
    "    print(data)"
   ]
  },
  {
   "cell_type": "code",
   "execution_count": null,
   "metadata": {},
   "outputs": [],
   "source": []
  }
 ],
 "metadata": {
  "kernelspec": {
   "display_name": "Python 3",
   "language": "python",
   "name": "python3"
  },
  "language_info": {
   "codemirror_mode": {
    "name": "ipython",
    "version": 3
   },
   "file_extension": ".py",
   "mimetype": "text/x-python",
   "name": "python",
   "nbconvert_exporter": "python",
   "pygments_lexer": "ipython3",
   "version": "3.6.5"
  }
 },
 "nbformat": 4,
 "nbformat_minor": 2
}
