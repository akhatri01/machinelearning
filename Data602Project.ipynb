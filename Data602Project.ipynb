{
  "nbformat": 4,
  "nbformat_minor": 0,
  "metadata": {
    "kernelspec": {
      "display_name": "Python 3",
      "language": "python",
      "name": "python3"
    },
    "language_info": {
      "codemirror_mode": {
        "name": "ipython",
        "version": 3
      },
      "file_extension": ".py",
      "mimetype": "text/x-python",
      "name": "python",
      "nbconvert_exporter": "python",
      "pygments_lexer": "ipython3",
      "version": "3.6.5"
    },
    "colab": {
      "name": "Data602Project.ipynb",
      "provenance": []
    }
  },
  "cells": [
    {
      "cell_type": "markdown",
      "metadata": {
        "id": "eK9Sr1kM6f9e",
        "colab_type": "text"
      },
      "source": [
        "#### Data 602 Project\n",
        "#### Amrit Khatri\n",
        "#### Spring 2020\n",
        "#### Professor Philip Bogden\n"
      ]
    },
    {
      "cell_type": "markdown",
      "metadata": {
        "id": "N_SjSBGx7Klm",
        "colab_type": "text"
      },
      "source": [
        "This project is utilizing most of the code and the ideas from the Kaggle competition project notebook defined [here](https://www.kaggle.com/sudalairajkumar/simple-exploration-notebook-zillow-prize). Thanks to [SRK](https://www.kaggle.com/sudalairajkumar) for sharing this wonderful knowledge via Kaggle competition."
      ]
    },
    {
      "cell_type": "markdown",
      "metadata": {
        "id": "r9JFcEZ-7fzz",
        "colab_type": "text"
      },
      "source": [
        "The objective of this project is building a model to improve the Zestimate resudual error."
      ]
    },
    {
      "cell_type": "code",
      "metadata": {
        "id": "Wt8SgsFl7dQu",
        "colab_type": "code",
        "colab": {}
      },
      "source": [
        "import numpy as np # linear algebra\n",
        "import pandas as pd # data processing, CSV file I/O (e.g. pd.read_csv)\n",
        "import matplotlib.pyplot as plt\n",
        "import seaborn as sns\n",
        "color = sns.color_palette()"
      ],
      "execution_count": 0,
      "outputs": []
    },
    {
      "cell_type": "code",
      "metadata": {
        "id": "0I71B53u7nNS",
        "colab_type": "code",
        "colab": {}
      },
      "source": [
        "import numpy as np # linear algebra\n",
        "import pandas as pd # data processing, CSV file I/O (e.g. pd.read_csv)\n",
        "import matplotlib.pyplot as plt\n",
        "import seaborn as sns\n",
        "color = sns.color_palette()\n"
      ],
      "execution_count": 0,
      "outputs": []
    },
    {
      "cell_type": "code",
      "metadata": {
        "id": "zHm0_ced76I7",
        "colab_type": "code",
        "colab": {}
      },
      "source": [
        ""
      ],
      "execution_count": 0,
      "outputs": []
    }
  ]
}